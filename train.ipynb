{
 "cells": [
  {
   "cell_type": "code",
   "execution_count": 1,
   "metadata": {},
   "outputs": [
    {
     "name": "stderr",
     "output_type": "stream",
     "text": [
      "/home/niranjan/miniconda3/envs/deepctr/lib/python3.7/site-packages/tqdm/auto.py:21: TqdmWarning: IProgress not found. Please update jupyter and ipywidgets. See https://ipywidgets.readthedocs.io/en/stable/user_install.html\n",
      "  from .autonotebook import tqdm as notebook_tqdm\n"
     ]
    }
   ],
   "source": [
    "import numpy as np\n",
    "import pandas as pd\n",
    "\n",
    "from sklearn.preprocessing import LabelEncoder, MinMaxScaler\n",
    "from deepctr.feature_column import SparseFeat, DenseFeat, get_feature_names\n",
    "\n",
    "from sklearn.model_selection import train_test_split\n",
    "from sklearn.metrics import mean_squared_error\n",
    "\n",
    "from sentence_transformers import SentenceTransformer\n",
    "\n",
    "from deepctr.models import DeepFM\n",
    "\n",
    "import ast\n",
    "from tqdm import tqdm\n",
    "tqdm.pandas()\n"
   ]
  },
  {
   "cell_type": "markdown",
   "metadata": {},
   "source": [
    "## Load Raw Pre-processed data"
   ]
  },
  {
   "cell_type": "code",
   "execution_count": 2,
   "metadata": {},
   "outputs": [],
   "source": [
    "raw_recipe_df_original = pd.read_csv(\"preprocessed_data/raw_recipe_preprocessed.csv\")\n",
    "raw_interaction_df_original = pd.read_csv(\"preprocessed_data/raw_interaction_preprocessed.csv\")"
   ]
  },
  {
   "cell_type": "code",
   "execution_count": 3,
   "metadata": {},
   "outputs": [],
   "source": [
    "raw_recipe_df = raw_recipe_df_original.copy()\n",
    "raw_interaction_df = raw_interaction_df_original.copy()"
   ]
  },
  {
   "cell_type": "code",
   "execution_count": 4,
   "metadata": {},
   "outputs": [
    {
     "name": "stdout",
     "output_type": "stream",
     "text": [
      "<class 'pandas.core.frame.DataFrame'>\n",
      "RangeIndex: 231637 entries, 0 to 231636\n",
      "Data columns (total 11 columns):\n",
      " #   Column            Non-Null Count   Dtype \n",
      "---  ------            --------------   ----- \n",
      " 0   id                231637 non-null  int64 \n",
      " 1   minutes           231637 non-null  int64 \n",
      " 2   tags              231528 non-null  object\n",
      " 3   nutrition         231637 non-null  object\n",
      " 4   n_steps           231637 non-null  int64 \n",
      " 5   steps             231636 non-null  object\n",
      " 6   ingredients       231637 non-null  object\n",
      " 7   n_ingredients     231637 non-null  int64 \n",
      " 8   description_soup  231637 non-null  object\n",
      " 9   year              231637 non-null  int64 \n",
      " 10  month             231637 non-null  int64 \n",
      "dtypes: int64(6), object(5)\n",
      "memory usage: 19.4+ MB\n"
     ]
    },
    {
     "data": {
      "text/html": [
       "<div>\n",
       "<style scoped>\n",
       "    .dataframe tbody tr th:only-of-type {\n",
       "        vertical-align: middle;\n",
       "    }\n",
       "\n",
       "    .dataframe tbody tr th {\n",
       "        vertical-align: top;\n",
       "    }\n",
       "\n",
       "    .dataframe thead th {\n",
       "        text-align: right;\n",
       "    }\n",
       "</style>\n",
       "<table border=\"1\" class=\"dataframe\">\n",
       "  <thead>\n",
       "    <tr style=\"text-align: right;\">\n",
       "      <th></th>\n",
       "      <th>id</th>\n",
       "      <th>minutes</th>\n",
       "      <th>tags</th>\n",
       "      <th>nutrition</th>\n",
       "      <th>n_steps</th>\n",
       "      <th>steps</th>\n",
       "      <th>ingredients</th>\n",
       "      <th>n_ingredients</th>\n",
       "      <th>description_soup</th>\n",
       "      <th>year</th>\n",
       "      <th>month</th>\n",
       "    </tr>\n",
       "  </thead>\n",
       "  <tbody>\n",
       "    <tr>\n",
       "      <th>0</th>\n",
       "      <td>137739</td>\n",
       "      <td>55</td>\n",
       "      <td>60 minutes less time make course main ingredie...</td>\n",
       "      <td>[51.5, 0.0, 13.0, 0.0, 2.0, 0.0, 4.0]</td>\n",
       "      <td>11</td>\n",
       "      <td>make choice proceed recipe depending size squa...</td>\n",
       "      <td>winter squash mexican seasoning mixed spice ho...</td>\n",
       "      <td>7</td>\n",
       "      <td>arriba baked winter squash mexican style autum...</td>\n",
       "      <td>2005</td>\n",
       "      <td>9</td>\n",
       "    </tr>\n",
       "    <tr>\n",
       "      <th>1</th>\n",
       "      <td>31490</td>\n",
       "      <td>30</td>\n",
       "      <td>30 minutes less time make course main ingredie...</td>\n",
       "      <td>[173.4, 18.0, 0.0, 17.0, 22.0, 35.0, 1.0]</td>\n",
       "      <td>9</td>\n",
       "      <td>preheat oven 425 degrees f press dough bottom ...</td>\n",
       "      <td>prepared pizza crust sausage patty eggs milk s...</td>\n",
       "      <td>6</td>\n",
       "      <td>bit different breakfast pizza recipe calls cru...</td>\n",
       "      <td>2002</td>\n",
       "      <td>6</td>\n",
       "    </tr>\n",
       "    <tr>\n",
       "      <th>2</th>\n",
       "      <td>112140</td>\n",
       "      <td>130</td>\n",
       "      <td>time make course preparation main dish chili c...</td>\n",
       "      <td>[269.8, 22.0, 32.0, 48.0, 39.0, 27.0, 5.0]</td>\n",
       "      <td>6</td>\n",
       "      <td>brown ground beef large pot add chopped onions...</td>\n",
       "      <td>ground beef yellow onions diced tomatoes tomat...</td>\n",
       "      <td>13</td>\n",
       "      <td>kitchen chili modified version mom chili hit 2...</td>\n",
       "      <td>2005</td>\n",
       "      <td>2</td>\n",
       "    </tr>\n",
       "    <tr>\n",
       "      <th>3</th>\n",
       "      <td>59389</td>\n",
       "      <td>45</td>\n",
       "      <td>60 minutes less time make course main ingredie...</td>\n",
       "      <td>[368.1, 17.0, 10.0, 2.0, 14.0, 8.0, 20.0]</td>\n",
       "      <td>11</td>\n",
       "      <td>place potatoes large pot lightly salted water ...</td>\n",
       "      <td>spreadable cheese garlic herbs new potatoes sh...</td>\n",
       "      <td>11</td>\n",
       "      <td>alouette potatoes super easy great tasting mak...</td>\n",
       "      <td>2003</td>\n",
       "      <td>4</td>\n",
       "    </tr>\n",
       "    <tr>\n",
       "      <th>4</th>\n",
       "      <td>44061</td>\n",
       "      <td>190</td>\n",
       "      <td>weeknight time make course main ingredient cui...</td>\n",
       "      <td>[352.9, 1.0, 337.0, 23.0, 3.0, 0.0, 28.0]</td>\n",
       "      <td>5</td>\n",
       "      <td>mix ingredients boil 2 1 2 hours thick pour ja...</td>\n",
       "      <td>tomato juice apple cider vinegar sugar salt pe...</td>\n",
       "      <td>8</td>\n",
       "      <td>amish tomato ketchup canning dh amish mother r...</td>\n",
       "      <td>2002</td>\n",
       "      <td>10</td>\n",
       "    </tr>\n",
       "  </tbody>\n",
       "</table>\n",
       "</div>"
      ],
      "text/plain": [
       "       id  minutes                                               tags  \\\n",
       "0  137739       55  60 minutes less time make course main ingredie...   \n",
       "1   31490       30  30 minutes less time make course main ingredie...   \n",
       "2  112140      130  time make course preparation main dish chili c...   \n",
       "3   59389       45  60 minutes less time make course main ingredie...   \n",
       "4   44061      190  weeknight time make course main ingredient cui...   \n",
       "\n",
       "                                    nutrition  n_steps  \\\n",
       "0       [51.5, 0.0, 13.0, 0.0, 2.0, 0.0, 4.0]       11   \n",
       "1   [173.4, 18.0, 0.0, 17.0, 22.0, 35.0, 1.0]        9   \n",
       "2  [269.8, 22.0, 32.0, 48.0, 39.0, 27.0, 5.0]        6   \n",
       "3   [368.1, 17.0, 10.0, 2.0, 14.0, 8.0, 20.0]       11   \n",
       "4   [352.9, 1.0, 337.0, 23.0, 3.0, 0.0, 28.0]        5   \n",
       "\n",
       "                                               steps  \\\n",
       "0  make choice proceed recipe depending size squa...   \n",
       "1  preheat oven 425 degrees f press dough bottom ...   \n",
       "2  brown ground beef large pot add chopped onions...   \n",
       "3  place potatoes large pot lightly salted water ...   \n",
       "4  mix ingredients boil 2 1 2 hours thick pour ja...   \n",
       "\n",
       "                                         ingredients  n_ingredients  \\\n",
       "0  winter squash mexican seasoning mixed spice ho...              7   \n",
       "1  prepared pizza crust sausage patty eggs milk s...              6   \n",
       "2  ground beef yellow onions diced tomatoes tomat...             13   \n",
       "3  spreadable cheese garlic herbs new potatoes sh...             11   \n",
       "4  tomato juice apple cider vinegar sugar salt pe...              8   \n",
       "\n",
       "                                    description_soup  year  month  \n",
       "0  arriba baked winter squash mexican style autum...  2005      9  \n",
       "1  bit different breakfast pizza recipe calls cru...  2002      6  \n",
       "2  kitchen chili modified version mom chili hit 2...  2005      2  \n",
       "3  alouette potatoes super easy great tasting mak...  2003      4  \n",
       "4  amish tomato ketchup canning dh amish mother r...  2002     10  "
      ]
     },
     "execution_count": 4,
     "metadata": {},
     "output_type": "execute_result"
    }
   ],
   "source": [
    "raw_recipe_df.info()\n",
    "raw_recipe_df.head()"
   ]
  },
  {
   "cell_type": "code",
   "execution_count": 5,
   "metadata": {},
   "outputs": [
    {
     "name": "stdout",
     "output_type": "stream",
     "text": [
      "<class 'pandas.core.frame.DataFrame'>\n",
      "RangeIndex: 1132367 entries, 0 to 1132366\n",
      "Data columns (total 6 columns):\n",
      " #   Column     Non-Null Count    Dtype \n",
      "---  ------     --------------    ----- \n",
      " 0   user_id    1132367 non-null  int64 \n",
      " 1   recipe_id  1132367 non-null  int64 \n",
      " 2   rating     1132367 non-null  int64 \n",
      " 3   review     1132095 non-null  object\n",
      " 4   year       1132367 non-null  int64 \n",
      " 5   month      1132367 non-null  int64 \n",
      "dtypes: int64(5), object(1)\n",
      "memory usage: 51.8+ MB\n"
     ]
    },
    {
     "data": {
      "text/html": [
       "<div>\n",
       "<style scoped>\n",
       "    .dataframe tbody tr th:only-of-type {\n",
       "        vertical-align: middle;\n",
       "    }\n",
       "\n",
       "    .dataframe tbody tr th {\n",
       "        vertical-align: top;\n",
       "    }\n",
       "\n",
       "    .dataframe thead th {\n",
       "        text-align: right;\n",
       "    }\n",
       "</style>\n",
       "<table border=\"1\" class=\"dataframe\">\n",
       "  <thead>\n",
       "    <tr style=\"text-align: right;\">\n",
       "      <th></th>\n",
       "      <th>user_id</th>\n",
       "      <th>recipe_id</th>\n",
       "      <th>rating</th>\n",
       "      <th>review</th>\n",
       "      <th>year</th>\n",
       "      <th>month</th>\n",
       "    </tr>\n",
       "  </thead>\n",
       "  <tbody>\n",
       "    <tr>\n",
       "      <th>0</th>\n",
       "      <td>38094</td>\n",
       "      <td>40893</td>\n",
       "      <td>4</td>\n",
       "      <td>great salad cooked top stove 15 minutes added ...</td>\n",
       "      <td>2003</td>\n",
       "      <td>2</td>\n",
       "    </tr>\n",
       "    <tr>\n",
       "      <th>1</th>\n",
       "      <td>1293707</td>\n",
       "      <td>40893</td>\n",
       "      <td>5</td>\n",
       "      <td>simple delicious great chilly fall evening dou...</td>\n",
       "      <td>2011</td>\n",
       "      <td>12</td>\n",
       "    </tr>\n",
       "    <tr>\n",
       "      <th>2</th>\n",
       "      <td>8937</td>\n",
       "      <td>44394</td>\n",
       "      <td>4</td>\n",
       "      <td>worked well easy used quite whole package 10oz...</td>\n",
       "      <td>2002</td>\n",
       "      <td>12</td>\n",
       "    </tr>\n",
       "    <tr>\n",
       "      <th>3</th>\n",
       "      <td>126440</td>\n",
       "      <td>85009</td>\n",
       "      <td>5</td>\n",
       "      <td>made mexican topping took bunko everyone loved</td>\n",
       "      <td>2010</td>\n",
       "      <td>2</td>\n",
       "    </tr>\n",
       "    <tr>\n",
       "      <th>4</th>\n",
       "      <td>57222</td>\n",
       "      <td>85009</td>\n",
       "      <td>5</td>\n",
       "      <td>made cheddar bacon topping adding sprinkling b...</td>\n",
       "      <td>2011</td>\n",
       "      <td>10</td>\n",
       "    </tr>\n",
       "  </tbody>\n",
       "</table>\n",
       "</div>"
      ],
      "text/plain": [
       "   user_id  recipe_id  rating  \\\n",
       "0    38094      40893       4   \n",
       "1  1293707      40893       5   \n",
       "2     8937      44394       4   \n",
       "3   126440      85009       5   \n",
       "4    57222      85009       5   \n",
       "\n",
       "                                              review  year  month  \n",
       "0  great salad cooked top stove 15 minutes added ...  2003      2  \n",
       "1  simple delicious great chilly fall evening dou...  2011     12  \n",
       "2  worked well easy used quite whole package 10oz...  2002     12  \n",
       "3     made mexican topping took bunko everyone loved  2010      2  \n",
       "4  made cheddar bacon topping adding sprinkling b...  2011     10  "
      ]
     },
     "execution_count": 5,
     "metadata": {},
     "output_type": "execute_result"
    }
   ],
   "source": [
    "raw_interaction_df.info()\n",
    "raw_interaction_df.head()"
   ]
  },
  {
   "cell_type": "markdown",
   "metadata": {},
   "source": [
    "## Join the two dataset"
   ]
  },
  {
   "cell_type": "code",
   "execution_count": 6,
   "metadata": {},
   "outputs": [
    {
     "data": {
      "text/plain": [
       "id                  False\n",
       "minutes             False\n",
       "tags                 True\n",
       "nutrition           False\n",
       "n_steps             False\n",
       "steps                True\n",
       "ingredients         False\n",
       "n_ingredients       False\n",
       "description_soup    False\n",
       "year                False\n",
       "month               False\n",
       "dtype: bool"
      ]
     },
     "execution_count": 6,
     "metadata": {},
     "output_type": "execute_result"
    }
   ],
   "source": [
    "raw_recipe_df.isnull().any()"
   ]
  },
  {
   "cell_type": "code",
   "execution_count": 7,
   "metadata": {},
   "outputs": [
    {
     "data": {
      "text/html": [
       "<div>\n",
       "<style scoped>\n",
       "    .dataframe tbody tr th:only-of-type {\n",
       "        vertical-align: middle;\n",
       "    }\n",
       "\n",
       "    .dataframe tbody tr th {\n",
       "        vertical-align: top;\n",
       "    }\n",
       "\n",
       "    .dataframe thead th {\n",
       "        text-align: right;\n",
       "    }\n",
       "</style>\n",
       "<table border=\"1\" class=\"dataframe\">\n",
       "  <thead>\n",
       "    <tr style=\"text-align: right;\">\n",
       "      <th></th>\n",
       "      <th>user_id</th>\n",
       "      <th>recipe_id</th>\n",
       "      <th>rating</th>\n",
       "      <th>review</th>\n",
       "      <th>year_interaction</th>\n",
       "      <th>month_interaction</th>\n",
       "      <th>id</th>\n",
       "      <th>minutes</th>\n",
       "      <th>tags</th>\n",
       "      <th>nutrition</th>\n",
       "      <th>n_steps</th>\n",
       "      <th>steps</th>\n",
       "      <th>ingredients</th>\n",
       "      <th>n_ingredients</th>\n",
       "      <th>description_soup</th>\n",
       "      <th>year_recipe</th>\n",
       "      <th>month_recipe</th>\n",
       "    </tr>\n",
       "  </thead>\n",
       "  <tbody>\n",
       "    <tr>\n",
       "      <th>0</th>\n",
       "      <td>38094</td>\n",
       "      <td>40893</td>\n",
       "      <td>4</td>\n",
       "      <td>great salad cooked top stove 15 minutes added ...</td>\n",
       "      <td>2003</td>\n",
       "      <td>2</td>\n",
       "      <td>40893</td>\n",
       "      <td>495</td>\n",
       "      <td>weeknight time make course main ingredient pre...</td>\n",
       "      <td>[204.8, 5.0, 9.0, 26.0, 24.0, 2.0, 10.0]</td>\n",
       "      <td>4</td>\n",
       "      <td>combine beans onion chilies 1 2 teaspoon cumin...</td>\n",
       "      <td>great northern beans yellow onion diced green ...</td>\n",
       "      <td>9</td>\n",
       "      <td>white bean green chile pepper soup easy soup c...</td>\n",
       "      <td>2002</td>\n",
       "      <td>9</td>\n",
       "    </tr>\n",
       "    <tr>\n",
       "      <th>1</th>\n",
       "      <td>1293707</td>\n",
       "      <td>40893</td>\n",
       "      <td>5</td>\n",
       "      <td>simple delicious great chilly fall evening dou...</td>\n",
       "      <td>2011</td>\n",
       "      <td>12</td>\n",
       "      <td>40893</td>\n",
       "      <td>495</td>\n",
       "      <td>weeknight time make course main ingredient pre...</td>\n",
       "      <td>[204.8, 5.0, 9.0, 26.0, 24.0, 2.0, 10.0]</td>\n",
       "      <td>4</td>\n",
       "      <td>combine beans onion chilies 1 2 teaspoon cumin...</td>\n",
       "      <td>great northern beans yellow onion diced green ...</td>\n",
       "      <td>9</td>\n",
       "      <td>white bean green chile pepper soup easy soup c...</td>\n",
       "      <td>2002</td>\n",
       "      <td>9</td>\n",
       "    </tr>\n",
       "  </tbody>\n",
       "</table>\n",
       "</div>"
      ],
      "text/plain": [
       "   user_id  recipe_id  rating  \\\n",
       "0    38094      40893       4   \n",
       "1  1293707      40893       5   \n",
       "\n",
       "                                              review  year_interaction  \\\n",
       "0  great salad cooked top stove 15 minutes added ...              2003   \n",
       "1  simple delicious great chilly fall evening dou...              2011   \n",
       "\n",
       "   month_interaction     id  minutes  \\\n",
       "0                  2  40893      495   \n",
       "1                 12  40893      495   \n",
       "\n",
       "                                                tags  \\\n",
       "0  weeknight time make course main ingredient pre...   \n",
       "1  weeknight time make course main ingredient pre...   \n",
       "\n",
       "                                  nutrition  n_steps  \\\n",
       "0  [204.8, 5.0, 9.0, 26.0, 24.0, 2.0, 10.0]        4   \n",
       "1  [204.8, 5.0, 9.0, 26.0, 24.0, 2.0, 10.0]        4   \n",
       "\n",
       "                                               steps  \\\n",
       "0  combine beans onion chilies 1 2 teaspoon cumin...   \n",
       "1  combine beans onion chilies 1 2 teaspoon cumin...   \n",
       "\n",
       "                                         ingredients  n_ingredients  \\\n",
       "0  great northern beans yellow onion diced green ...              9   \n",
       "1  great northern beans yellow onion diced green ...              9   \n",
       "\n",
       "                                    description_soup  year_recipe  \\\n",
       "0  white bean green chile pepper soup easy soup c...         2002   \n",
       "1  white bean green chile pepper soup easy soup c...         2002   \n",
       "\n",
       "   month_recipe  \n",
       "0             9  \n",
       "1             9  "
      ]
     },
     "execution_count": 7,
     "metadata": {},
     "output_type": "execute_result"
    }
   ],
   "source": [
    "data = raw_interaction_df.merge(raw_recipe_df, how=\"left\", left_on=\"recipe_id\", right_on=\"id\", suffixes=('_interaction', '_recipe'))\n",
    "data.head(2)"
   ]
  },
  {
   "cell_type": "code",
   "execution_count": 8,
   "metadata": {},
   "outputs": [
    {
     "name": "stdout",
     "output_type": "stream",
     "text": [
      "<class 'pandas.core.frame.DataFrame'>\n",
      "Int64Index: 1132367 entries, 0 to 1132366\n",
      "Data columns (total 17 columns):\n",
      " #   Column             Non-Null Count    Dtype \n",
      "---  ------             --------------    ----- \n",
      " 0   user_id            1132367 non-null  int64 \n",
      " 1   recipe_id          1132367 non-null  int64 \n",
      " 2   rating             1132367 non-null  int64 \n",
      " 3   review             1132095 non-null  object\n",
      " 4   year_interaction   1132367 non-null  int64 \n",
      " 5   month_interaction  1132367 non-null  int64 \n",
      " 6   id                 1132367 non-null  int64 \n",
      " 7   minutes            1132367 non-null  int64 \n",
      " 8   tags               1131344 non-null  object\n",
      " 9   nutrition          1132367 non-null  object\n",
      " 10  n_steps            1132367 non-null  int64 \n",
      " 11  steps              1132365 non-null  object\n",
      " 12  ingredients        1132367 non-null  object\n",
      " 13  n_ingredients      1132367 non-null  int64 \n",
      " 14  description_soup   1132367 non-null  object\n",
      " 15  year_recipe        1132367 non-null  int64 \n",
      " 16  month_recipe       1132367 non-null  int64 \n",
      "dtypes: int64(11), object(6)\n",
      "memory usage: 155.5+ MB\n"
     ]
    }
   ],
   "source": [
    "data.info()"
   ]
  },
  {
   "cell_type": "code",
   "execution_count": 9,
   "metadata": {},
   "outputs": [
    {
     "data": {
      "text/plain": [
       "user_id              False\n",
       "recipe_id            False\n",
       "rating               False\n",
       "review                True\n",
       "year_interaction     False\n",
       "month_interaction    False\n",
       "id                   False\n",
       "minutes              False\n",
       "tags                  True\n",
       "nutrition            False\n",
       "n_steps              False\n",
       "steps                 True\n",
       "ingredients          False\n",
       "n_ingredients        False\n",
       "description_soup     False\n",
       "year_recipe          False\n",
       "month_recipe         False\n",
       "dtype: bool"
      ]
     },
     "execution_count": 9,
     "metadata": {},
     "output_type": "execute_result"
    }
   ],
   "source": [
    "data.isnull().any()"
   ]
  },
  {
   "cell_type": "code",
   "execution_count": 10,
   "metadata": {},
   "outputs": [],
   "source": [
    "columns_to_fill_empty_string = [\"review\", \"tags\", \"steps\"]\n",
    "data[columns_to_fill_empty_string] = data[columns_to_fill_empty_string].fillna(' ')"
   ]
  },
  {
   "cell_type": "code",
   "execution_count": 11,
   "metadata": {},
   "outputs": [
    {
     "data": {
      "text/plain": [
       "user_id              False\n",
       "recipe_id            False\n",
       "rating               False\n",
       "review               False\n",
       "year_interaction     False\n",
       "month_interaction    False\n",
       "id                   False\n",
       "minutes              False\n",
       "tags                 False\n",
       "nutrition            False\n",
       "n_steps              False\n",
       "steps                False\n",
       "ingredients          False\n",
       "n_ingredients        False\n",
       "description_soup     False\n",
       "year_recipe          False\n",
       "month_recipe         False\n",
       "dtype: bool"
      ]
     },
     "execution_count": 11,
     "metadata": {},
     "output_type": "execute_result"
    }
   ],
   "source": [
    "data.isnull().any()"
   ]
  },
  {
   "cell_type": "code",
   "execution_count": 12,
   "metadata": {},
   "outputs": [
    {
     "data": {
      "text/html": [
       "<div>\n",
       "<style scoped>\n",
       "    .dataframe tbody tr th:only-of-type {\n",
       "        vertical-align: middle;\n",
       "    }\n",
       "\n",
       "    .dataframe tbody tr th {\n",
       "        vertical-align: top;\n",
       "    }\n",
       "\n",
       "    .dataframe thead th {\n",
       "        text-align: right;\n",
       "    }\n",
       "</style>\n",
       "<table border=\"1\" class=\"dataframe\">\n",
       "  <thead>\n",
       "    <tr style=\"text-align: right;\">\n",
       "      <th></th>\n",
       "      <th>user_id</th>\n",
       "      <th>recipe_id</th>\n",
       "      <th>rating</th>\n",
       "      <th>review</th>\n",
       "      <th>year_interaction</th>\n",
       "      <th>month_interaction</th>\n",
       "      <th>id</th>\n",
       "      <th>minutes</th>\n",
       "      <th>tags</th>\n",
       "      <th>nutrition</th>\n",
       "      <th>n_steps</th>\n",
       "      <th>steps</th>\n",
       "      <th>ingredients</th>\n",
       "      <th>n_ingredients</th>\n",
       "      <th>description_soup</th>\n",
       "      <th>year_recipe</th>\n",
       "      <th>month_recipe</th>\n",
       "    </tr>\n",
       "  </thead>\n",
       "  <tbody>\n",
       "    <tr>\n",
       "      <th>0</th>\n",
       "      <td>38094</td>\n",
       "      <td>40893</td>\n",
       "      <td>4</td>\n",
       "      <td>great salad cooked top stove 15 minutes added ...</td>\n",
       "      <td>2003</td>\n",
       "      <td>2</td>\n",
       "      <td>40893</td>\n",
       "      <td>495</td>\n",
       "      <td>weeknight time make course main ingredient pre...</td>\n",
       "      <td>[204.8, 5.0, 9.0, 26.0, 24.0, 2.0, 10.0]</td>\n",
       "      <td>4</td>\n",
       "      <td>combine beans onion chilies 1 2 teaspoon cumin...</td>\n",
       "      <td>great northern beans yellow onion diced green ...</td>\n",
       "      <td>9</td>\n",
       "      <td>white bean green chile pepper soup easy soup c...</td>\n",
       "      <td>2002</td>\n",
       "      <td>9</td>\n",
       "    </tr>\n",
       "    <tr>\n",
       "      <th>1</th>\n",
       "      <td>1293707</td>\n",
       "      <td>40893</td>\n",
       "      <td>5</td>\n",
       "      <td>simple delicious great chilly fall evening dou...</td>\n",
       "      <td>2011</td>\n",
       "      <td>12</td>\n",
       "      <td>40893</td>\n",
       "      <td>495</td>\n",
       "      <td>weeknight time make course main ingredient pre...</td>\n",
       "      <td>[204.8, 5.0, 9.0, 26.0, 24.0, 2.0, 10.0]</td>\n",
       "      <td>4</td>\n",
       "      <td>combine beans onion chilies 1 2 teaspoon cumin...</td>\n",
       "      <td>great northern beans yellow onion diced green ...</td>\n",
       "      <td>9</td>\n",
       "      <td>white bean green chile pepper soup easy soup c...</td>\n",
       "      <td>2002</td>\n",
       "      <td>9</td>\n",
       "    </tr>\n",
       "  </tbody>\n",
       "</table>\n",
       "</div>"
      ],
      "text/plain": [
       "   user_id  recipe_id  rating  \\\n",
       "0    38094      40893       4   \n",
       "1  1293707      40893       5   \n",
       "\n",
       "                                              review  year_interaction  \\\n",
       "0  great salad cooked top stove 15 minutes added ...              2003   \n",
       "1  simple delicious great chilly fall evening dou...              2011   \n",
       "\n",
       "   month_interaction     id  minutes  \\\n",
       "0                  2  40893      495   \n",
       "1                 12  40893      495   \n",
       "\n",
       "                                                tags  \\\n",
       "0  weeknight time make course main ingredient pre...   \n",
       "1  weeknight time make course main ingredient pre...   \n",
       "\n",
       "                                  nutrition  n_steps  \\\n",
       "0  [204.8, 5.0, 9.0, 26.0, 24.0, 2.0, 10.0]        4   \n",
       "1  [204.8, 5.0, 9.0, 26.0, 24.0, 2.0, 10.0]        4   \n",
       "\n",
       "                                               steps  \\\n",
       "0  combine beans onion chilies 1 2 teaspoon cumin...   \n",
       "1  combine beans onion chilies 1 2 teaspoon cumin...   \n",
       "\n",
       "                                         ingredients  n_ingredients  \\\n",
       "0  great northern beans yellow onion diced green ...              9   \n",
       "1  great northern beans yellow onion diced green ...              9   \n",
       "\n",
       "                                    description_soup  year_recipe  \\\n",
       "0  white bean green chile pepper soup easy soup c...         2002   \n",
       "1  white bean green chile pepper soup easy soup c...         2002   \n",
       "\n",
       "   month_recipe  \n",
       "0             9  \n",
       "1             9  "
      ]
     },
     "execution_count": 12,
     "metadata": {},
     "output_type": "execute_result"
    }
   ],
   "source": [
    "data.head(2)"
   ]
  },
  {
   "cell_type": "code",
   "execution_count": 13,
   "metadata": {},
   "outputs": [
    {
     "data": {
      "text/plain": [
       "'great salad cooked top stove 15 minutes added shake cayenne pinch salt used low fat sour cream thanks weeknight time make course main ingredient preparation occasion soups stews beans vegetables easy crock pot slow cooker dietary equipment combine beans onion chilies 1 2 teaspoon cumin garlic powder broth crock pot cook low 8 hours high 4 hours stir cilantro olive oil remaining 1 2 teaspoon cumin garnish sour cream desired great northern beans yellow onion diced green chilies ground cumin garlic powder fat free chicken broth fresh cilantro leaves extra virgin olive oil sour cream white bean green chile pepper soup easy soup crockpot '"
      ]
     },
     "execution_count": 13,
     "metadata": {},
     "output_type": "execute_result"
    }
   ],
   "source": [
    "text_columns_to_drop = [\"review\", \"tags\", \"steps\", \"ingredients\", \"description_soup\"]\n",
    "soup_column = [\"review\", \"tags\", \"steps\", \"ingredients\", \"description_soup\"]\n",
    "\n",
    "def make_soup(x):\n",
    "    global soup_column\n",
    "    result = \"\"\n",
    "    for column in soup_column:\n",
    "        result += x[column] + \" \"\n",
    "    return result \n",
    "\n",
    "make_soup(data.iloc[0])"
   ]
  },
  {
   "cell_type": "code",
   "execution_count": 14,
   "metadata": {},
   "outputs": [
    {
     "name": "stderr",
     "output_type": "stream",
     "text": [
      "  0%|          | 0/1132367 [00:00<?, ?it/s]"
     ]
    },
    {
     "name": "stderr",
     "output_type": "stream",
     "text": [
      "100%|██████████| 1132367/1132367 [00:18<00:00, 60492.23it/s]\n"
     ]
    }
   ],
   "source": [
    "data[\"soup\"] = data.progress_apply(make_soup, axis=1)"
   ]
  },
  {
   "cell_type": "code",
   "execution_count": 15,
   "metadata": {},
   "outputs": [],
   "source": [
    "data = data.drop(text_columns_to_drop, axis=1)"
   ]
  },
  {
   "cell_type": "code",
   "execution_count": 16,
   "metadata": {},
   "outputs": [
    {
     "data": {
      "text/html": [
       "<div>\n",
       "<style scoped>\n",
       "    .dataframe tbody tr th:only-of-type {\n",
       "        vertical-align: middle;\n",
       "    }\n",
       "\n",
       "    .dataframe tbody tr th {\n",
       "        vertical-align: top;\n",
       "    }\n",
       "\n",
       "    .dataframe thead th {\n",
       "        text-align: right;\n",
       "    }\n",
       "</style>\n",
       "<table border=\"1\" class=\"dataframe\">\n",
       "  <thead>\n",
       "    <tr style=\"text-align: right;\">\n",
       "      <th></th>\n",
       "      <th>user_id</th>\n",
       "      <th>recipe_id</th>\n",
       "      <th>rating</th>\n",
       "      <th>year_interaction</th>\n",
       "      <th>month_interaction</th>\n",
       "      <th>id</th>\n",
       "      <th>minutes</th>\n",
       "      <th>nutrition</th>\n",
       "      <th>n_steps</th>\n",
       "      <th>n_ingredients</th>\n",
       "      <th>year_recipe</th>\n",
       "      <th>month_recipe</th>\n",
       "      <th>soup</th>\n",
       "    </tr>\n",
       "  </thead>\n",
       "  <tbody>\n",
       "    <tr>\n",
       "      <th>0</th>\n",
       "      <td>38094</td>\n",
       "      <td>40893</td>\n",
       "      <td>4</td>\n",
       "      <td>2003</td>\n",
       "      <td>2</td>\n",
       "      <td>40893</td>\n",
       "      <td>495</td>\n",
       "      <td>[204.8, 5.0, 9.0, 26.0, 24.0, 2.0, 10.0]</td>\n",
       "      <td>4</td>\n",
       "      <td>9</td>\n",
       "      <td>2002</td>\n",
       "      <td>9</td>\n",
       "      <td>great salad cooked top stove 15 minutes added ...</td>\n",
       "    </tr>\n",
       "    <tr>\n",
       "      <th>1</th>\n",
       "      <td>1293707</td>\n",
       "      <td>40893</td>\n",
       "      <td>5</td>\n",
       "      <td>2011</td>\n",
       "      <td>12</td>\n",
       "      <td>40893</td>\n",
       "      <td>495</td>\n",
       "      <td>[204.8, 5.0, 9.0, 26.0, 24.0, 2.0, 10.0]</td>\n",
       "      <td>4</td>\n",
       "      <td>9</td>\n",
       "      <td>2002</td>\n",
       "      <td>9</td>\n",
       "      <td>simple delicious great chilly fall evening dou...</td>\n",
       "    </tr>\n",
       "    <tr>\n",
       "      <th>2</th>\n",
       "      <td>8937</td>\n",
       "      <td>44394</td>\n",
       "      <td>4</td>\n",
       "      <td>2002</td>\n",
       "      <td>12</td>\n",
       "      <td>44394</td>\n",
       "      <td>20</td>\n",
       "      <td>[132.3, 11.0, 39.0, 5.0, 4.0, 11.0, 5.0]</td>\n",
       "      <td>5</td>\n",
       "      <td>4</td>\n",
       "      <td>2002</td>\n",
       "      <td>10</td>\n",
       "      <td>worked well easy used quite whole package 10oz...</td>\n",
       "    </tr>\n",
       "    <tr>\n",
       "      <th>3</th>\n",
       "      <td>126440</td>\n",
       "      <td>85009</td>\n",
       "      <td>5</td>\n",
       "      <td>2010</td>\n",
       "      <td>2</td>\n",
       "      <td>85009</td>\n",
       "      <td>10</td>\n",
       "      <td>[2786.2, 342.0, 134.0, 290.0, 161.0, 301.0, 42.0]</td>\n",
       "      <td>3</td>\n",
       "      <td>13</td>\n",
       "      <td>2004</td>\n",
       "      <td>2</td>\n",
       "      <td>made mexican topping took bunko everyone loved...</td>\n",
       "    </tr>\n",
       "    <tr>\n",
       "      <th>4</th>\n",
       "      <td>57222</td>\n",
       "      <td>85009</td>\n",
       "      <td>5</td>\n",
       "      <td>2011</td>\n",
       "      <td>10</td>\n",
       "      <td>85009</td>\n",
       "      <td>10</td>\n",
       "      <td>[2786.2, 342.0, 134.0, 290.0, 161.0, 301.0, 42.0]</td>\n",
       "      <td>3</td>\n",
       "      <td>13</td>\n",
       "      <td>2004</td>\n",
       "      <td>2</td>\n",
       "      <td>made cheddar bacon topping adding sprinkling b...</td>\n",
       "    </tr>\n",
       "  </tbody>\n",
       "</table>\n",
       "</div>"
      ],
      "text/plain": [
       "   user_id  recipe_id  rating  year_interaction  month_interaction     id  \\\n",
       "0    38094      40893       4              2003                  2  40893   \n",
       "1  1293707      40893       5              2011                 12  40893   \n",
       "2     8937      44394       4              2002                 12  44394   \n",
       "3   126440      85009       5              2010                  2  85009   \n",
       "4    57222      85009       5              2011                 10  85009   \n",
       "\n",
       "   minutes                                          nutrition  n_steps  \\\n",
       "0      495           [204.8, 5.0, 9.0, 26.0, 24.0, 2.0, 10.0]        4   \n",
       "1      495           [204.8, 5.0, 9.0, 26.0, 24.0, 2.0, 10.0]        4   \n",
       "2       20           [132.3, 11.0, 39.0, 5.0, 4.0, 11.0, 5.0]        5   \n",
       "3       10  [2786.2, 342.0, 134.0, 290.0, 161.0, 301.0, 42.0]        3   \n",
       "4       10  [2786.2, 342.0, 134.0, 290.0, 161.0, 301.0, 42.0]        3   \n",
       "\n",
       "   n_ingredients  year_recipe  month_recipe  \\\n",
       "0              9         2002             9   \n",
       "1              9         2002             9   \n",
       "2              4         2002            10   \n",
       "3             13         2004             2   \n",
       "4             13         2004             2   \n",
       "\n",
       "                                                soup  \n",
       "0  great salad cooked top stove 15 minutes added ...  \n",
       "1  simple delicious great chilly fall evening dou...  \n",
       "2  worked well easy used quite whole package 10oz...  \n",
       "3  made mexican topping took bunko everyone loved...  \n",
       "4  made cheddar bacon topping adding sprinkling b...  "
      ]
     },
     "execution_count": 16,
     "metadata": {},
     "output_type": "execute_result"
    }
   ],
   "source": [
    "data.head()"
   ]
  },
  {
   "cell_type": "code",
   "execution_count": 17,
   "metadata": {},
   "outputs": [],
   "source": [
    "data[\"nutrition\"] = data[\"nutrition\"].apply(lambda x: ast.literal_eval(x))"
   ]
  },
  {
   "cell_type": "code",
   "execution_count": 18,
   "metadata": {},
   "outputs": [
    {
     "name": "stdout",
     "output_type": "stream",
     "text": [
      "<class 'pandas.core.frame.DataFrame'>\n",
      "Int64Index: 1132367 entries, 0 to 1132366\n",
      "Data columns (total 13 columns):\n",
      " #   Column             Non-Null Count    Dtype \n",
      "---  ------             --------------    ----- \n",
      " 0   user_id            1132367 non-null  int64 \n",
      " 1   recipe_id          1132367 non-null  int64 \n",
      " 2   rating             1132367 non-null  int64 \n",
      " 3   year_interaction   1132367 non-null  int64 \n",
      " 4   month_interaction  1132367 non-null  int64 \n",
      " 5   id                 1132367 non-null  int64 \n",
      " 6   minutes            1132367 non-null  int64 \n",
      " 7   nutrition          1132367 non-null  object\n",
      " 8   n_steps            1132367 non-null  int64 \n",
      " 9   n_ingredients      1132367 non-null  int64 \n",
      " 10  year_recipe        1132367 non-null  int64 \n",
      " 11  month_recipe       1132367 non-null  int64 \n",
      " 12  soup               1132367 non-null  object\n",
      "dtypes: int64(11), object(2)\n",
      "memory usage: 1.4 GB\n"
     ]
    }
   ],
   "source": [
    "data.info(memory_usage=\"deep\")"
   ]
  },
  {
   "cell_type": "markdown",
   "metadata": {},
   "source": [
    "### Text Encoding"
   ]
  },
  {
   "cell_type": "code",
   "execution_count": 19,
   "metadata": {},
   "outputs": [],
   "source": [
    "embedding_model = SentenceTransformer(\"all-MiniLM-L6-v2\")"
   ]
  },
  {
   "cell_type": "code",
   "execution_count": 20,
   "metadata": {},
   "outputs": [],
   "source": [
    "# embeddings = embedding_model.encode(data[\"soup\"])"
   ]
  },
  {
   "cell_type": "code",
   "execution_count": 21,
   "metadata": {},
   "outputs": [
    {
     "data": {
      "text/plain": [
       "((1132367, 384), numpy.ndarray, dtype('float32'))"
      ]
     },
     "execution_count": 21,
     "metadata": {},
     "output_type": "execute_result"
    }
   ],
   "source": [
    "# embeddings = embeddings.astype(np.float32)\n",
    "# embeddings.shape, type(embeddings), embeddings.dtype"
   ]
  },
  {
   "cell_type": "code",
   "execution_count": 33,
   "metadata": {},
   "outputs": [],
   "source": [
    "import pickle\n",
    "filename = 'embeddings.pkl'\n",
    "\n",
    "# with open(filename, 'wb') as file:\n",
    "#     pickle.dump(embeddings, file)\n",
    "\n",
    "# print(f\"Embedding saved to {filename}\")"
   ]
  },
  {
   "cell_type": "code",
   "execution_count": 34,
   "metadata": {},
   "outputs": [],
   "source": [
    "with open(filename, 'rb') as file:\n",
    "    loaded_embedding = pickle.load(file)"
   ]
  },
  {
   "cell_type": "code",
   "execution_count": 35,
   "metadata": {},
   "outputs": [
    {
     "data": {
      "text/plain": [
       "(1132367, 384)"
      ]
     },
     "execution_count": 35,
     "metadata": {},
     "output_type": "execute_result"
    }
   ],
   "source": [
    "loaded_embedding.shape"
   ]
  },
  {
   "cell_type": "code",
   "execution_count": 40,
   "metadata": {},
   "outputs": [],
   "source": [
    "data[\"soup_embedding\"] = list(loaded_embedding)"
   ]
  },
  {
   "cell_type": "markdown",
   "metadata": {},
   "source": [
    "### Features"
   ]
  },
  {
   "cell_type": "code",
   "execution_count": 41,
   "metadata": {},
   "outputs": [
    {
     "data": {
      "text/plain": [
       "9"
      ]
     },
     "execution_count": 41,
     "metadata": {},
     "output_type": "execute_result"
    }
   ],
   "source": [
    "sparse_features = ['user_id', 'recipe_id', 'year_interaction', 'month_interaction', 'minutes', 'n_steps', 'n_ingredients', 'year_recipe', 'month_recipe']\n",
    "dense_vector = ['soup_embedding']\n",
    "target = ['rating']\n",
    "len(sparse_features)"
   ]
  },
  {
   "cell_type": "code",
   "execution_count": 42,
   "metadata": {},
   "outputs": [],
   "source": [
    "for feat in sparse_features:\n",
    "    lbe = LabelEncoder()\n",
    "    data[feat] = lbe.fit_transform(data[feat])"
   ]
  },
  {
   "cell_type": "code",
   "execution_count": 43,
   "metadata": {},
   "outputs": [
    {
     "data": {
      "text/html": [
       "<div>\n",
       "<style scoped>\n",
       "    .dataframe tbody tr th:only-of-type {\n",
       "        vertical-align: middle;\n",
       "    }\n",
       "\n",
       "    .dataframe tbody tr th {\n",
       "        vertical-align: top;\n",
       "    }\n",
       "\n",
       "    .dataframe thead th {\n",
       "        text-align: right;\n",
       "    }\n",
       "</style>\n",
       "<table border=\"1\" class=\"dataframe\">\n",
       "  <thead>\n",
       "    <tr style=\"text-align: right;\">\n",
       "      <th></th>\n",
       "      <th>user_id</th>\n",
       "      <th>recipe_id</th>\n",
       "      <th>rating</th>\n",
       "      <th>year_interaction</th>\n",
       "      <th>month_interaction</th>\n",
       "      <th>id</th>\n",
       "      <th>minutes</th>\n",
       "      <th>nutrition</th>\n",
       "      <th>n_steps</th>\n",
       "      <th>n_ingredients</th>\n",
       "      <th>year_recipe</th>\n",
       "      <th>month_recipe</th>\n",
       "      <th>soup</th>\n",
       "      <th>soup_embedding</th>\n",
       "    </tr>\n",
       "  </thead>\n",
       "  <tbody>\n",
       "    <tr>\n",
       "      <th>0</th>\n",
       "      <td>3935</td>\n",
       "      <td>22741</td>\n",
       "      <td>4</td>\n",
       "      <td>3</td>\n",
       "      <td>1</td>\n",
       "      <td>40893</td>\n",
       "      <td>353</td>\n",
       "      <td>[204.8, 5.0, 9.0, 26.0, 24.0, 2.0, 10.0]</td>\n",
       "      <td>4</td>\n",
       "      <td>8</td>\n",
       "      <td>3</td>\n",
       "      <td>8</td>\n",
       "      <td>great salad cooked top stove 15 minutes added ...</td>\n",
       "      <td>[-0.044753153, -0.012271672, 0.038132753, 0.03...</td>\n",
       "    </tr>\n",
       "    <tr>\n",
       "      <th>1</th>\n",
       "      <td>99667</td>\n",
       "      <td>22741</td>\n",
       "      <td>5</td>\n",
       "      <td>11</td>\n",
       "      <td>11</td>\n",
       "      <td>40893</td>\n",
       "      <td>353</td>\n",
       "      <td>[204.8, 5.0, 9.0, 26.0, 24.0, 2.0, 10.0]</td>\n",
       "      <td>4</td>\n",
       "      <td>8</td>\n",
       "      <td>3</td>\n",
       "      <td>8</td>\n",
       "      <td>simple delicious great chilly fall evening dou...</td>\n",
       "      <td>[-0.07353787, -0.03263321, 0.049074758, 0.0873...</td>\n",
       "    </tr>\n",
       "  </tbody>\n",
       "</table>\n",
       "</div>"
      ],
      "text/plain": [
       "   user_id  recipe_id  rating  year_interaction  month_interaction     id  \\\n",
       "0     3935      22741       4                 3                  1  40893   \n",
       "1    99667      22741       5                11                 11  40893   \n",
       "\n",
       "   minutes                                 nutrition  n_steps  n_ingredients  \\\n",
       "0      353  [204.8, 5.0, 9.0, 26.0, 24.0, 2.0, 10.0]        4              8   \n",
       "1      353  [204.8, 5.0, 9.0, 26.0, 24.0, 2.0, 10.0]        4              8   \n",
       "\n",
       "   year_recipe  month_recipe  \\\n",
       "0            3             8   \n",
       "1            3             8   \n",
       "\n",
       "                                                soup  \\\n",
       "0  great salad cooked top stove 15 minutes added ...   \n",
       "1  simple delicious great chilly fall evening dou...   \n",
       "\n",
       "                                      soup_embedding  \n",
       "0  [-0.044753153, -0.012271672, 0.038132753, 0.03...  \n",
       "1  [-0.07353787, -0.03263321, 0.049074758, 0.0873...  "
      ]
     },
     "execution_count": 43,
     "metadata": {},
     "output_type": "execute_result"
    }
   ],
   "source": [
    "data.head(2)"
   ]
  },
  {
   "cell_type": "code",
   "execution_count": 44,
   "metadata": {},
   "outputs": [],
   "source": [
    "fixlen_feature_columns = [SparseFeat(\n",
    "    feat,\n",
    "    vocabulary_size=data[feat].max() + 1, \n",
    "    embedding_dim=16\n",
    ") for feat in sparse_features]\n",
    "\n",
    "fixlen_feature_columns += [DenseFeat(feat, 384, np.float32) for feat in dense_vector]"
   ]
  },
  {
   "cell_type": "code",
   "execution_count": 45,
   "metadata": {},
   "outputs": [
    {
     "data": {
      "text/plain": [
       "(10,\n",
       " ['user_id',\n",
       "  'recipe_id',\n",
       "  'year_interaction',\n",
       "  'month_interaction',\n",
       "  'minutes',\n",
       "  'n_steps',\n",
       "  'n_ingredients',\n",
       "  'year_recipe',\n",
       "  'month_recipe',\n",
       "  'soup_embedding'])"
      ]
     },
     "execution_count": 45,
     "metadata": {},
     "output_type": "execute_result"
    }
   ],
   "source": [
    "dnn_feature_columns = fixlen_feature_columns\n",
    "linear_feature_columns = fixlen_feature_columns\n",
    "feature_names = get_feature_names(linear_feature_columns + dnn_feature_columns)\n",
    "len(feature_names), feature_names"
   ]
  },
  {
   "cell_type": "code",
   "execution_count": 46,
   "metadata": {},
   "outputs": [],
   "source": [
    "train, test = train_test_split(data, test_size=0.2, random_state=2020)\n",
    "train_model_input = {name: train[name].values for name in feature_names if name not in dense_vector}\n",
    "test_model_input = {name: test[name].values for name in feature_names if name not in dense_vector}"
   ]
  },
  {
   "cell_type": "code",
   "execution_count": 48,
   "metadata": {},
   "outputs": [
    {
     "data": {
      "text/plain": [
       "dict_keys(['user_id', 'recipe_id', 'year_interaction', 'month_interaction', 'minutes', 'n_steps', 'n_ingredients', 'year_recipe', 'month_recipe', 'soup_embedding'])"
      ]
     },
     "execution_count": 48,
     "metadata": {},
     "output_type": "execute_result"
    }
   ],
   "source": [
    "train_model_input[\"soup_embedding\"] = np.array(train[\"soup_embedding\"].tolist())\n",
    "test_model_input[\"soup_embedding\"] = np.array(test[\"soup_embedding\"].tolist())\n",
    "train_model_input.keys()"
   ]
  },
  {
   "cell_type": "code",
   "execution_count": 49,
   "metadata": {},
   "outputs": [],
   "source": [
    "model = DeepFM(linear_feature_columns, dnn_feature_columns, task='regression')\n",
    "model.compile(\"adam\", \"mse\", metrics=['mse'], )"
   ]
  },
  {
   "cell_type": "code",
   "execution_count": 55,
   "metadata": {},
   "outputs": [],
   "source": [
    "EPOCHS = 5\n",
    "BATCH_SIZE = 512"
   ]
  },
  {
   "cell_type": "code",
   "execution_count": 56,
   "metadata": {},
   "outputs": [
    {
     "data": {
      "text/plain": [
       "(905893, 226474, numpy.ndarray)"
      ]
     },
     "execution_count": 56,
     "metadata": {},
     "output_type": "execute_result"
    }
   ],
   "source": [
    "len(train_model_input[\"recipe_id\"]), len(test_model_input[\"recipe_id\"]), type(train_model_input[\"recipe_id\"])"
   ]
  },
  {
   "cell_type": "code",
   "execution_count": 57,
   "metadata": {},
   "outputs": [
    {
     "name": "stdout",
     "output_type": "stream",
     "text": [
      "Epoch 1/5\n",
      "1416/1416 - 48s - loss: 1.3057 - mse: 1.2873 - val_loss: 1.3095 - val_mse: 1.2773\n",
      "Epoch 2/5\n",
      "1416/1416 - 48s - loss: 0.8130 - mse: 0.7727 - val_loss: 1.3916 - val_mse: 1.3442\n",
      "Epoch 3/5\n",
      "1416/1416 - 48s - loss: 0.6869 - mse: 0.6354 - val_loss: 1.4399 - val_mse: 1.3837\n",
      "Epoch 4/5\n",
      "1416/1416 - 48s - loss: 0.5345 - mse: 0.4789 - val_loss: 1.5297 - val_mse: 1.4728\n",
      "Epoch 5/5\n",
      "1416/1416 - 48s - loss: 0.4437 - mse: 0.3884 - val_loss: 1.5770 - val_mse: 1.5206\n"
     ]
    }
   ],
   "source": [
    "history = model.fit(train_model_input, \n",
    "                    train[target].values, \n",
    "                    batch_size=BATCH_SIZE, \n",
    "                    epochs=EPOCHS, \n",
    "                    verbose=2, \n",
    "                    validation_split=0.2, )"
   ]
  },
  {
   "cell_type": "code",
   "execution_count": 58,
   "metadata": {},
   "outputs": [
    {
     "data": {
      "image/png": "[encoded data removed]",
      "text/plain": [
       "<Figure size 720x432 with 1 Axes>"
      ]
     },
     "metadata": {
      "needs_background": "light"
     },
     "output_type": "display_data"
    }
   ],
   "source": [
    "import matplotlib.pyplot as plt\n",
    "# Extract loss and validation loss values\n",
    "def plot_history(history, train_metric: str, val_metric: str):\n",
    "    history_dict = history.history\n",
    "\n",
    "    loss = history_dict[train_metric]\n",
    "    val_loss = history_dict[val_metric]\n",
    "    # Create an array with epoch numbers\n",
    "    epochs = range(1, len(loss) + 1)\n",
    "\n",
    "    # Plotting the training and validation loss\n",
    "    plt.figure(figsize=(10, 6))\n",
    "    plt.plot(epochs, loss, 'bo-', label=train_metric)\n",
    "    plt.plot(epochs, val_loss, 'ro-', label=val_metric)\n",
    "    plt.title(f'{train_metric} vs {val_metric}')\n",
    "    plt.xlabel('Epochs')\n",
    "    plt.ylabel('Loss')\n",
    "    plt.legend()\n",
    "    plt.show()\n",
    "\n",
    "plot_history(history, \"mse\", \"val_mse\")"
   ]
  },
  {
   "cell_type": "code",
   "execution_count": 59,
   "metadata": {},
   "outputs": [
    {
     "name": "stdout",
     "output_type": "stream",
     "text": [
      "test MSE 1.5062\n"
     ]
    }
   ],
   "source": [
    "pred_ans = model.predict(test_model_input, batch_size=256)\n",
    "print(\"test MSE\", round(mean_squared_error(test[target].values, pred_ans), 4))"
   ]
  },
  {
   "cell_type": "code",
   "execution_count": null,
   "metadata": {},
   "outputs": [],
   "source": []
  }
 ],
 "metadata": {
  "kernelspec": {
   "display_name": "deepctr",
   "language": "python",
   "name": "python3"
  },
  "language_info": {
   "codemirror_mode": {
    "name": "ipython",
    "version": 3
   },
   "file_extension": ".py",
   "mimetype": "text/x-python",
   "name": "python",
   "nbconvert_exporter": "python",
   "pygments_lexer": "ipython3",
   "version": "3.7.12"
  }
 },
 "nbformat": 4,
 "nbformat_minor": 2
}
